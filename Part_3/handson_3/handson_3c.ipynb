{
 "cells": [
  {
   "cell_type": "markdown",
   "id": "67305e82",
   "metadata": {
    "colab_type": "text",
    "id": "view-in-github"
   },
   "source": [
    "<a href=\"https://colab.research.google.com/github/wooihaw/pai_apr2024/blob/main/Part_3/handson_3/handson_3c.ipynb\" target=\"_parent\"><img src=\"https://colab.research.google.com/assets/colab-badge.svg\" alt=\"Open In Colab\"/></a>"
   ]
  },
  {
   "cell_type": "markdown",
   "id": "9acdec19",
   "metadata": {
    "id": "9acdec19"
   },
   "source": [
    "## Hands-on 3C\n",
    "#### Build 3 classification models to classify faulty steel plates. The dataset contains information about steel plates and their faults. There are 27 features and the data samples have been classified into 7 different types of steel plate faults."
   ]
  },
  {
   "cell_type": "code",
   "execution_count": 1,
   "id": "6481264f",
   "metadata": {
    "id": "6481264f",
    "tags": []
   },
   "outputs": [],
   "source": [
    "# Initialization\n",
    "%matplotlib inline\n",
    "from warnings import filterwarnings\n",
    "filterwarnings('ignore')"
   ]
  },
  {
   "cell_type": "code",
   "execution_count": 2,
   "id": "1ae13063",
   "metadata": {
    "id": "1ae13063",
    "tags": []
   },
   "outputs": [],
   "source": [
    "# Load the required libraries\n",
    "import sys\n",
    "from pandas import read_csv\n",
    "from sklearn.model_selection import train_test_split as split, KFold, cross_val_score\n",
    "from sklearn.linear_model import LogisticRegression\n",
    "from sklearn.tree import DecisionTreeClassifier\n",
    "from sklearn.neighbors import KNeighborsClassifier\n",
    "from sklearn.preprocessing import StandardScaler\n",
    "from sklearn.decomposition import PCA"
   ]
  },
  {
   "cell_type": "code",
   "execution_count": 3,
   "id": "5dbfb794",
   "metadata": {
    "id": "5dbfb794",
    "tags": []
   },
   "outputs": [],
   "source": [
    "# Load the dataset\n",
    "# Determine the environment\n",
    "is_colab = 'google.colab' in sys.modules\n",
    "\n",
    "# Execute code conditionally\n",
    "if is_colab:\n",
    "    # Code for Google Colab environment\n",
    "    df = read_csv(\"https://raw.githubusercontent.com/wooihaw/datasets/main/steel_faults.csv\")\n",
    "else:\n",
    "    # Code for local Jupyter Notebook environment\n",
    "    df = read_csv(\"steel_faults.csv\")"
   ]
  },
  {
   "cell_type": "markdown",
   "id": "f1ac88e3",
   "metadata": {
    "id": "f1ac88e3"
   },
   "source": [
    "**To do:**\n",
    "- Print 5 random data samples from the dataset"
   ]
  },
  {
   "cell_type": "code",
   "execution_count": 4,
   "id": "a3f0b6ab",
   "metadata": {
    "id": "a3f0b6ab",
    "tags": []
   },
   "outputs": [
    {
     "data": {
      "text/html": [
       "<div>\n",
       "<style scoped>\n",
       "    .dataframe tbody tr th:only-of-type {\n",
       "        vertical-align: middle;\n",
       "    }\n",
       "\n",
       "    .dataframe tbody tr th {\n",
       "        vertical-align: top;\n",
       "    }\n",
       "\n",
       "    .dataframe thead th {\n",
       "        text-align: right;\n",
       "    }\n",
       "</style>\n",
       "<table border=\"1\" class=\"dataframe\">\n",
       "  <thead>\n",
       "    <tr style=\"text-align: right;\">\n",
       "      <th></th>\n",
       "      <th>X_Minimum</th>\n",
       "      <th>X_Maximum</th>\n",
       "      <th>Y_Minimum</th>\n",
       "      <th>Y_Maximum</th>\n",
       "      <th>Pixels_Areas</th>\n",
       "      <th>X_Perimeter</th>\n",
       "      <th>Y_Perimeter</th>\n",
       "      <th>Sum_of_Luminosity</th>\n",
       "      <th>Minimum_of_Luminosity</th>\n",
       "      <th>Maximum_of_Luminosity</th>\n",
       "      <th>...</th>\n",
       "      <th>Edges_X_Index</th>\n",
       "      <th>Edges_Y_Index</th>\n",
       "      <th>Outside_Global_Index</th>\n",
       "      <th>LogOfAreas</th>\n",
       "      <th>Log_X_Index</th>\n",
       "      <th>Log_Y_Index</th>\n",
       "      <th>Orientation_Index</th>\n",
       "      <th>Luminosity_Index</th>\n",
       "      <th>SigmoidOfAreas</th>\n",
       "      <th>Fault</th>\n",
       "    </tr>\n",
       "  </thead>\n",
       "  <tbody>\n",
       "    <tr>\n",
       "      <th>1088</th>\n",
       "      <td>572</td>\n",
       "      <td>584</td>\n",
       "      <td>228293</td>\n",
       "      <td>228336</td>\n",
       "      <td>341</td>\n",
       "      <td>39</td>\n",
       "      <td>43</td>\n",
       "      <td>44484</td>\n",
       "      <td>121</td>\n",
       "      <td>140</td>\n",
       "      <td>...</td>\n",
       "      <td>0.3077</td>\n",
       "      <td>1.0000</td>\n",
       "      <td>1.0</td>\n",
       "      <td>2.5327</td>\n",
       "      <td>1.0792</td>\n",
       "      <td>1.6335</td>\n",
       "      <td>0.7209</td>\n",
       "      <td>0.0192</td>\n",
       "      <td>0.8061</td>\n",
       "      <td>Bumps</td>\n",
       "    </tr>\n",
       "    <tr>\n",
       "      <th>1501</th>\n",
       "      <td>246</td>\n",
       "      <td>262</td>\n",
       "      <td>267240</td>\n",
       "      <td>267297</td>\n",
       "      <td>549</td>\n",
       "      <td>54</td>\n",
       "      <td>58</td>\n",
       "      <td>60860</td>\n",
       "      <td>94</td>\n",
       "      <td>124</td>\n",
       "      <td>...</td>\n",
       "      <td>0.2963</td>\n",
       "      <td>0.9828</td>\n",
       "      <td>1.0</td>\n",
       "      <td>2.7396</td>\n",
       "      <td>1.2041</td>\n",
       "      <td>1.7559</td>\n",
       "      <td>0.7193</td>\n",
       "      <td>-0.1339</td>\n",
       "      <td>0.9831</td>\n",
       "      <td>Other_Faults</td>\n",
       "    </tr>\n",
       "    <tr>\n",
       "      <th>1001</th>\n",
       "      <td>814</td>\n",
       "      <td>823</td>\n",
       "      <td>119924</td>\n",
       "      <td>119932</td>\n",
       "      <td>52</td>\n",
       "      <td>10</td>\n",
       "      <td>8</td>\n",
       "      <td>4695</td>\n",
       "      <td>74</td>\n",
       "      <td>103</td>\n",
       "      <td>...</td>\n",
       "      <td>0.9000</td>\n",
       "      <td>1.0000</td>\n",
       "      <td>0.0</td>\n",
       "      <td>1.7160</td>\n",
       "      <td>0.9542</td>\n",
       "      <td>0.9031</td>\n",
       "      <td>-0.1111</td>\n",
       "      <td>-0.2946</td>\n",
       "      <td>0.1773</td>\n",
       "      <td>Bumps</td>\n",
       "    </tr>\n",
       "    <tr>\n",
       "      <th>928</th>\n",
       "      <td>129</td>\n",
       "      <td>140</td>\n",
       "      <td>970962</td>\n",
       "      <td>970972</td>\n",
       "      <td>66</td>\n",
       "      <td>14</td>\n",
       "      <td>10</td>\n",
       "      <td>7537</td>\n",
       "      <td>101</td>\n",
       "      <td>131</td>\n",
       "      <td>...</td>\n",
       "      <td>0.7857</td>\n",
       "      <td>1.0000</td>\n",
       "      <td>0.0</td>\n",
       "      <td>1.8195</td>\n",
       "      <td>1.0414</td>\n",
       "      <td>1.0000</td>\n",
       "      <td>-0.0909</td>\n",
       "      <td>-0.1078</td>\n",
       "      <td>0.2173</td>\n",
       "      <td>Bumps</td>\n",
       "    </tr>\n",
       "    <tr>\n",
       "      <th>1214</th>\n",
       "      <td>1065</td>\n",
       "      <td>1080</td>\n",
       "      <td>3232524</td>\n",
       "      <td>3232534</td>\n",
       "      <td>105</td>\n",
       "      <td>21</td>\n",
       "      <td>12</td>\n",
       "      <td>10284</td>\n",
       "      <td>85</td>\n",
       "      <td>111</td>\n",
       "      <td>...</td>\n",
       "      <td>0.7143</td>\n",
       "      <td>0.8333</td>\n",
       "      <td>0.0</td>\n",
       "      <td>2.0212</td>\n",
       "      <td>1.1761</td>\n",
       "      <td>1.0000</td>\n",
       "      <td>-0.3333</td>\n",
       "      <td>-0.2348</td>\n",
       "      <td>0.2660</td>\n",
       "      <td>Bumps</td>\n",
       "    </tr>\n",
       "  </tbody>\n",
       "</table>\n",
       "<p>5 rows × 28 columns</p>\n",
       "</div>"
      ],
      "text/plain": [
       "      X_Minimum  X_Maximum  Y_Minimum  Y_Maximum  Pixels_Areas  X_Perimeter  \\\n",
       "1088        572        584     228293     228336           341           39   \n",
       "1501        246        262     267240     267297           549           54   \n",
       "1001        814        823     119924     119932            52           10   \n",
       "928         129        140     970962     970972            66           14   \n",
       "1214       1065       1080    3232524    3232534           105           21   \n",
       "\n",
       "      Y_Perimeter  Sum_of_Luminosity  Minimum_of_Luminosity  \\\n",
       "1088           43              44484                    121   \n",
       "1501           58              60860                     94   \n",
       "1001            8               4695                     74   \n",
       "928            10               7537                    101   \n",
       "1214           12              10284                     85   \n",
       "\n",
       "      Maximum_of_Luminosity  ...  Edges_X_Index  Edges_Y_Index  \\\n",
       "1088                    140  ...         0.3077         1.0000   \n",
       "1501                    124  ...         0.2963         0.9828   \n",
       "1001                    103  ...         0.9000         1.0000   \n",
       "928                     131  ...         0.7857         1.0000   \n",
       "1214                    111  ...         0.7143         0.8333   \n",
       "\n",
       "      Outside_Global_Index  LogOfAreas  Log_X_Index  Log_Y_Index  \\\n",
       "1088                   1.0      2.5327       1.0792       1.6335   \n",
       "1501                   1.0      2.7396       1.2041       1.7559   \n",
       "1001                   0.0      1.7160       0.9542       0.9031   \n",
       "928                    0.0      1.8195       1.0414       1.0000   \n",
       "1214                   0.0      2.0212       1.1761       1.0000   \n",
       "\n",
       "      Orientation_Index  Luminosity_Index  SigmoidOfAreas         Fault  \n",
       "1088             0.7209            0.0192          0.8061         Bumps  \n",
       "1501             0.7193           -0.1339          0.9831  Other_Faults  \n",
       "1001            -0.1111           -0.2946          0.1773         Bumps  \n",
       "928             -0.0909           -0.1078          0.2173         Bumps  \n",
       "1214            -0.3333           -0.2348          0.2660         Bumps  \n",
       "\n",
       "[5 rows x 28 columns]"
      ]
     },
     "execution_count": 4,
     "metadata": {},
     "output_type": "execute_result"
    }
   ],
   "source": [
    "df.sample(5)"
   ]
  },
  {
   "cell_type": "markdown",
   "id": "c01cb8e5",
   "metadata": {
    "id": "c01cb8e5"
   },
   "source": [
    "**To do:**\n",
    "- Separate the dataset into features (X) and targets (y)"
   ]
  },
  {
   "cell_type": "code",
   "execution_count": 5,
   "id": "60dcdb69",
   "metadata": {
    "id": "60dcdb69",
    "tags": []
   },
   "outputs": [],
   "source": [
    "X = df.drop(columns=[\"Fault\"])\n",
    "y = df[\"Fault\"]"
   ]
  },
  {
   "cell_type": "markdown",
   "id": "a354ee9c",
   "metadata": {
    "id": "a354ee9c"
   },
   "source": [
    "**To do:**\n",
    "- Evaluate the performance of k-Nearest Neighbors, Logistic Regression and Decision Tree on this dataset using 5-fold cross validation."
   ]
  },
  {
   "cell_type": "code",
   "execution_count": 6,
   "id": "89c13b59",
   "metadata": {
    "id": "89c13b59",
    "tags": []
   },
   "outputs": [
    {
     "name": "stdout",
     "output_type": "stream",
     "text": [
      "lgr: 45.646%, 2.028%\n",
      "knn: 46.368%, 3.167%\n",
      "dtc: 70.736%, 2.008%\n"
     ]
    }
   ],
   "source": [
    "# Use spot-checking to quickly evaluate the performance of different models\n",
    "models = {}\n",
    "models[\"lgr\"] = LogisticRegression()\n",
    "models[\"knn\"] = KNeighborsClassifier()\n",
    "models[\"dtc\"] = DecisionTreeClassifier(random_state=42)\n",
    "\n",
    "kf = KFold(n_splits=5, shuffle=True, random_state=42)\n",
    "for k in models:\n",
    "    scores = cross_val_score(models[k], X, y, cv=kf, n_jobs=-1)\n",
    "    print(f\"{k}: {scores.mean():.3%}, {scores.std():.3%}\")"
   ]
  },
  {
   "cell_type": "markdown",
   "id": "6b870137",
   "metadata": {
    "id": "6b870137"
   },
   "source": [
    "**To do:**\n",
    "- Peform feature scaling using standard scaler. Evaluate the performance of k-Nearest Neighbors, Logistic Regression and Decision Tree on the scaled features using 5-fold cross validation."
   ]
  },
  {
   "cell_type": "code",
   "execution_count": 7,
   "id": "dd8607c8",
   "metadata": {
    "id": "dd8607c8",
    "tags": []
   },
   "outputs": [
    {
     "name": "stdout",
     "output_type": "stream",
     "text": [
      "After feature scaling using StandardScaler\n",
      "lgr: 71.302%, 3.089%\n",
      "knn: 73.983%, 2.111%\n",
      "dtc: 70.684%, 2.033%\n"
     ]
    }
   ],
   "source": [
    "scl = StandardScaler()\n",
    "Xs = scl.fit_transform(X)\n",
    "\n",
    "print(\"After feature scaling using StandardScaler\")\n",
    "for k in models:\n",
    "    scores = cross_val_score(models[k], Xs, y, cv=kf, n_jobs=-1)\n",
    "    print(f\"{k}: {scores.mean():.3%}, {scores.std():.3%}\")"
   ]
  },
  {
   "cell_type": "markdown",
   "id": "29c9798a",
   "metadata": {
    "id": "29c9798a"
   },
   "source": [
    "**To do:**\n",
    "- Use Principle Component Analysis (PCA) to reduce the dimensionality of the scaled features to 13. Evaluate the performance of k-Nearest Neighbors, Logistic Regression and Decision Tree on these features using 5-fold cross validation."
   ]
  },
  {
   "cell_type": "code",
   "execution_count": 8,
   "id": "8585e37c",
   "metadata": {
    "id": "8585e37c",
    "tags": []
   },
   "outputs": [
    {
     "name": "stdout",
     "output_type": "stream",
     "text": [
      "After dimensionality reduction using PCA\n",
      "lgr: 70.632%, 3.342%\n",
      "knn: 73.725%, 1.527%\n",
      "dtc: 65.174%, 3.083%\n"
     ]
    }
   ],
   "source": [
    "pca = PCA(n_components=13)\n",
    "Xsr = pca.fit_transform(Xs)\n",
    "\n",
    "print(\"After dimensionality reduction using PCA\")\n",
    "for k in models:\n",
    "    scores = cross_val_score(models[k], Xsr, y, cv=kf, n_jobs=-1)\n",
    "    print(f\"{k}: {scores.mean():.3%}, {scores.std():.3%}\")"
   ]
  },
  {
   "cell_type": "code",
   "execution_count": null,
   "id": "ccff5867-3b4a-49dd-a3b9-672abf8f4ebe",
   "metadata": {},
   "outputs": [],
   "source": []
  }
 ],
 "metadata": {
  "colab": {
   "include_colab_link": true,
   "provenance": []
  },
  "kernelspec": {
   "display_name": "Python 3 (ipykernel)",
   "language": "python",
   "name": "python3"
  },
  "language_info": {
   "codemirror_mode": {
    "name": "ipython",
    "version": 3
   },
   "file_extension": ".py",
   "mimetype": "text/x-python",
   "name": "python",
   "nbconvert_exporter": "python",
   "pygments_lexer": "ipython3",
   "version": "3.11.7"
  }
 },
 "nbformat": 4,
 "nbformat_minor": 5
}
